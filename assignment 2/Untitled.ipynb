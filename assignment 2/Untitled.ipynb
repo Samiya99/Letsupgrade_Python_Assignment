{
 "cells": [
  {
   "cell_type": "code",
   "execution_count": 29,
   "metadata": {},
   "outputs": [
    {
     "name": "stdout",
     "output_type": "stream",
     "text": [
      "Enter 'x' for exit.\n",
      "Enter marks obtained in 5 subjects: \n",
      "90\n",
      "80\n",
      "50\n",
      "70\n",
      "80\n",
      "Your Grade is B+\n"
     ]
    }
   ],
   "source": [
    "# Question 1\n",
    "# Use IF ELSE and ELIF to write a program in python for your Report Cards.\n",
    "\n",
    "print(\"Enter 'x' for exit.\");\n",
    "print(\"Enter marks obtained in 5 subjects: \");\n",
    "mark1 = input();\n",
    "if mark1 == 'x':\n",
    "    exit();\n",
    "else:\n",
    "    mark1 = int(mark1);\n",
    "    mark2 = int(input());\n",
    "    mark3 = int(input());\n",
    "    mark4 = int(input());\n",
    "    mark5 = int(input());\n",
    "    sum = mark1 + mark2 + mark3 + mark4 + mark5;\n",
    "    average = sum/5;\n",
    "    if(average>=91 and average<=100):\n",
    "    \tprint(\"Your Grade is A+\");\n",
    "    elif(average>=81 and average<=90):\n",
    "    \tprint(\"Your Grade is A\");\n",
    "    elif(average>=71 and average<=80):\n",
    "    \tprint(\"Your Grade is B+\");\n",
    "    elif(average>=61 and average<=70):\n",
    "    \tprint(\"Your Grade is B\");\n",
    "    elif(average>=51 and average<=60):\n",
    "    \tprint(\"Your Grade is C+\");\n",
    "    elif(average>=41 and average<=50):\n",
    "    \tprint(\"Your Grade is C\");\n",
    "    elif(average>=0 and average<=40):\n",
    "    \tprint(\"Your Grade is F\");\n",
    "    else:\n",
    "    \tprint(\"Strange Grade..!!\");"
   ]
  },
  {
   "cell_type": "code",
   "execution_count": 3,
   "metadata": {},
   "outputs": [
    {
     "name": "stdout",
     "output_type": "stream",
     "text": [
      " 2   3   5   7   11   13   17   19   23   29   31   37   41   43   47   53   59   61   67   71   73   79   83   89   97   101   103   107   109   113   127   131   137   139   149   151   157   163   167   173   179   181   191   193   197   199   211   223   227   229   233   239   241   251   257   263   269   271   277   281   283   293   307   311   313   317   331   337   347   349   353   359   367   373   379   383   389   397   401   409   419   421   431   433   439   443   449   457   461   463   467   479   487   491   499   503   509   521   523   541   547   557   563   569   571   577   587   593   599   601   607   613   617   619   631   641   643   647   653   659   661   673   677   683   691   701   709   719   727   733   739   743   751   757   761   769   773   787   797   809   811   821   823   827   829   839   853   857   859   863   877   881   883   887   907   911   919   929   937   941   947   953   967   971   977   983   991   997  "
     ]
    }
   ],
   "source": [
    "# Question 2\n",
    "# Use For Loop to Print Prime Numbers in between 1 to 1000\n",
    " \n",
    "for Number in range (1, 1001):\n",
    "    count = 0\n",
    "    for i in range(2, (Number//2 + 1)):\n",
    "        if(Number % i == 0):\n",
    "            count = count + 1\n",
    "            break\n",
    "\n",
    "    if (count == 0 and Number != 1):\n",
    "        print(\" %d\" %Number, end = '  ')"
   ]
  },
  {
   "cell_type": "code",
   "execution_count": 20,
   "metadata": {},
   "outputs": [
    {
     "name": "stdout",
     "output_type": "stream",
     "text": [
      "   0\n",
      "   1\n",
      "   2\n",
      "   3\n",
      "   4\n",
      "   5\n",
      "   6\n",
      "   7\n",
      "   8\n",
      "   9\n",
      "   1   2   3   4   5   6   7   8   9\n",
      "   2   4   6   8  10  12  14  16  18\n",
      "   3   6   9  12  15  18  21  24  27\n",
      "   4   8  12  16  20  24  28  32  36\n",
      "   5  10  15  20  25  30  35  40  45\n",
      "   6  12  18  24  30  36  42  48  54\n",
      "   7  14  21  28  35  42  49  56  63\n",
      "   8  16  24  32  40  48  56  64  72\n",
      "   9  18  27  36  45  54  63  72  81\n"
     ]
    }
   ],
   "source": [
    "#Question 3\n",
    "#Write a program for printing the tables from 1,10 using Nested For Loop\n",
    "\n",
    "for x in range(1,10):\n",
    "   print(\"  \", x, end = '')\n",
    "   print()\n",
    "for row in range(1, 10):\n",
    "    for col in range(1, 10):\n",
    "        num = row * col\n",
    "        if num < 10:\n",
    "            empty = \"  \"\n",
    "        else:\n",
    "            if num < 100: \n",
    "                empty  = \" \" \n",
    "        print(empty, num, end = '')\n",
    "    print()\n"
   ]
  },
  {
   "cell_type": "code",
   "execution_count": 2,
   "metadata": {},
   "outputs": [
    {
     "name": "stdout",
     "output_type": "stream",
     "text": [
      " Please Enter any Number: 10\n",
      " 10 is not a Prime Number\n"
     ]
    }
   ],
   "source": [
    "# Question 4\n",
    "# Write a program to Print X Prime Numbers using While Loop starting from 0, and take the INput of X from\n",
    "#   the user\n",
    " \n",
    "Number = int(input(\" Please Enter any Number: \"))\n",
    "count = 0\n",
    "i = 2\n",
    "\n",
    "while (i <= Number//2):\n",
    "    if(Number % i == 0):\n",
    "        count = count + 1\n",
    "        break\n",
    "    i = i + 1\n",
    "\n",
    "if (count == 0 and Number != 1):\n",
    "    print(\" %d is a Prime Number\" %Number)\n",
    "else:\n",
    "    print(\" %d is not a Prime Number\" %Number)\n",
    "    "
   ]
  }
 ],
 "metadata": {
  "kernelspec": {
   "display_name": "Python 3",
   "language": "python",
   "name": "python3"
  },
  "language_info": {
   "codemirror_mode": {
    "name": "ipython",
    "version": 3
   },
   "file_extension": ".py",
   "mimetype": "text/x-python",
   "name": "python",
   "nbconvert_exporter": "python",
   "pygments_lexer": "ipython3",
   "version": "3.8.5"
  }
 },
 "nbformat": 4,
 "nbformat_minor": 4
}
