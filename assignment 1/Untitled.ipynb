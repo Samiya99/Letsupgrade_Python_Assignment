{
 "cells": [
  {
   "cell_type": "code",
   "execution_count": null,
   "metadata": {},
   "outputs": [],
   "source": [
    "#Q1 Try 5 Different functions of the String in Python."
   ]
  },
  {
   "cell_type": "code",
   "execution_count": 10,
   "metadata": {},
   "outputs": [
    {
     "name": "stdout",
     "output_type": "stream",
     "text": [
      " I LIKE PYTHON \n"
     ]
    }
   ],
   "source": [
    "#upper case\n",
    "\n",
    "string=\" I like python \"\n",
    "print(string.upper())"
   ]
  },
  {
   "cell_type": "code",
   "execution_count": 11,
   "metadata": {},
   "outputs": [
    {
     "name": "stdout",
     "output_type": "stream",
     "text": [
      "I like python\n"
     ]
    }
   ],
   "source": [
    "#lower case\n",
    "\n",
    "string=\"I Like Python\"\n",
    "print(string.capitalize())"
   ]
  },
  {
   "cell_type": "code",
   "execution_count": 12,
   "metadata": {},
   "outputs": [
    {
     "name": "stdout",
     "output_type": "stream",
     "text": [
      "P:y:t:h:o:n\n"
     ]
    }
   ],
   "source": [
    "#Join\n",
    "\n",
    "print(\":\".join(\"Python\"))"
   ]
  },
  {
   "cell_type": "code",
   "execution_count": 13,
   "metadata": {},
   "outputs": [
    {
     "name": "stdout",
     "output_type": "stream",
     "text": [
      "54321\n"
     ]
    }
   ],
   "source": [
    "#Reverse\n",
    "\n",
    "string=\"12345\"\n",
    "\n",
    "print(''.join(reversed(string)))"
   ]
  },
  {
   "cell_type": "code",
   "execution_count": 14,
   "metadata": {},
   "outputs": [
    {
     "name": "stdout",
     "output_type": "stream",
     "text": [
      "I love python\n"
     ]
    }
   ],
   "source": [
    "#Replace\n",
    "\n",
    "oldstring = 'I like python' \n",
    "newstring = oldstring.replace('like', 'love')\n",
    "print(newstring)"
   ]
  },
  {
   "cell_type": "code",
   "execution_count": null,
   "metadata": {},
   "outputs": [],
   "source": [
    "#Replace\n",
    "\n",
    "oldstring = 'I like python' \n",
    "newstring = oldstring.replace('like', 'love')\n",
    "print(newstring)"
   ]
  },
  {
   "cell_type": "code",
   "execution_count": null,
   "metadata": {},
   "outputs": [],
   "source": [
    "#Q2 Try 5 Different functions of the List object in Python"
   ]
  },
  {
   "cell_type": "code",
   "execution_count": 1,
   "metadata": {},
   "outputs": [
    {
     "name": "stdout",
     "output_type": "stream",
     "text": [
      "['January', 'February', 'March', 'April']\n"
     ]
    }
   ],
   "source": [
    "#Append function\n",
    "\n",
    "months = ['January', 'February', 'March']\n",
    "months.append('April')\n",
    "print(months)"
   ]
  },
  {
   "cell_type": "code",
   "execution_count": 2,
   "metadata": {},
   "outputs": [
    {
     "data": {
      "text/plain": [
       "[1, 2, 3, 4, 5]"
      ]
     },
     "execution_count": 2,
     "metadata": {},
     "output_type": "execute_result"
    }
   ],
   "source": [
    "# Extend \n",
    "x = [1, 2, 3]\n",
    "x.extend([4, 5])\n",
    "x"
   ]
  },
  {
   "cell_type": "code",
   "execution_count": 5,
   "metadata": {},
   "outputs": [],
   "source": [
    "#Index\n",
    "\n",
    "months = ['January', 'February', 'March']\n",
    "prices = [238.11, 237.81, 238.91]"
   ]
  },
  {
   "cell_type": "code",
   "execution_count": 8,
   "metadata": {},
   "outputs": [
    {
     "data": {
      "text/plain": [
       "1"
      ]
     },
     "execution_count": 8,
     "metadata": {},
     "output_type": "execute_result"
    }
   ],
   "source": [
    "months.index('February')"
   ]
  },
  {
   "cell_type": "code",
   "execution_count": 9,
   "metadata": {},
   "outputs": [
    {
     "name": "stdout",
     "output_type": "stream",
     "text": [
      "237.81\n"
     ]
    }
   ],
   "source": [
    "print(prices[1])"
   ]
  },
  {
   "cell_type": "code",
   "execution_count": 10,
   "metadata": {},
   "outputs": [
    {
     "name": "stdout",
     "output_type": "stream",
     "text": [
      "159.54\n"
     ]
    }
   ],
   "source": [
    "# max function\n",
    "\n",
    "prices = [159.54, 37.13, 71.17]\n",
    "price_max = max(prices)\n",
    "print(price_max)"
   ]
  },
  {
   "cell_type": "code",
   "execution_count": 19,
   "metadata": {},
   "outputs": [
    {
     "name": "stdout",
     "output_type": "stream",
     "text": [
      "stock_price_1 length is  1\n",
      "stock_price_2 length is  3\n"
     ]
    }
   ],
   "source": [
    "# len() function\n",
    "\n",
    "stock_price_1 = [50.23]\n",
    "stock_price_2 = [75.14, 85.64, 11.28]\n",
    "\n",
    "print('stock_price_1 length is ', len(stock_price_1))\n",
    "print('stock_price_2 length is ', len(stock_price_2))"
   ]
  },
  {
   "cell_type": "code",
   "execution_count": 21,
   "metadata": {},
   "outputs": [],
   "source": [
    "#Q3 Experiment with at least 5 default functions of Dictionary\n",
    "# empty dictionary\n",
    "my_dict = {}\n",
    "\n",
    "# dictionary with integer keys\n",
    "my_dict = {1: 'apple', 2: 'ball'}\n",
    "\n",
    "# dictionary with mixed keys\n",
    "my_dict = {'name': 'John', 1: [2, 4, 3]}\n",
    "\n",
    "# using dict()\n",
    "my_dict = dict({1:'apple', 2:'ball'})\n",
    "\n",
    "# from sequence having each item as a pair\n",
    "my_dict = dict([(1,'apple'), (2,'ball')])"
   ]
  },
  {
   "cell_type": "code",
   "execution_count": 22,
   "metadata": {},
   "outputs": [
    {
     "name": "stdout",
     "output_type": "stream",
     "text": [
      "Jack\n",
      "26\n"
     ]
    }
   ],
   "source": [
    "# get vs [] for retrieving elements\n",
    "my_dict = {'name': 'Jack', 'age': 26}\n",
    "\n",
    "# Output: Jack\n",
    "print(my_dict['name'])\n",
    "\n",
    "# Output: 26\n",
    "print(my_dict.get('age'))\n"
   ]
  },
  {
   "cell_type": "code",
   "execution_count": 23,
   "metadata": {},
   "outputs": [
    {
     "name": "stdout",
     "output_type": "stream",
     "text": [
      "{'name': 'Jack', 'age': 27}\n",
      "{'name': 'Jack', 'age': 27, 'address': 'Downtown'}\n"
     ]
    }
   ],
   "source": [
    "# Changing and adding Dictionary Elements\n",
    "my_dict = {'name': 'Jack', 'age': 26}\n",
    "\n",
    "# update value\n",
    "my_dict['age'] = 27\n",
    "\n",
    "#Output: {'age': 27, 'name': 'Jack'}\n",
    "print(my_dict)\n",
    "\n",
    "# add item\n",
    "my_dict['address'] = 'Downtown'\n",
    "\n",
    "# Output: {'address': 'Downtown', 'age': 27, 'name': 'Jack'}\n",
    "print(my_dict)"
   ]
  },
  {
   "cell_type": "code",
   "execution_count": 24,
   "metadata": {},
   "outputs": [
    {
     "name": "stdout",
     "output_type": "stream",
     "text": [
      "{'Math': 0, 'English': 0, 'Science': 0}\n",
      "('Math', 0)\n",
      "('English', 0)\n",
      "('Science', 0)\n",
      "['English', 'Math', 'Science']\n"
     ]
    }
   ],
   "source": [
    "# Dictionary Methods\n",
    "marks = {}.fromkeys(['Math', 'English', 'Science'], 0)\n",
    "\n",
    "# Output: {'English': 0, 'Math': 0, 'Science': 0}\n",
    "print(marks)\n",
    "\n",
    "for item in marks.items():\n",
    "    print(item)\n",
    "\n",
    "# Output: ['English', 'Math', 'Science']\n",
    "print(list(sorted(marks.keys())))"
   ]
  },
  {
   "cell_type": "code",
   "execution_count": 25,
   "metadata": {},
   "outputs": [
    {
     "name": "stdout",
     "output_type": "stream",
     "text": [
      "{0: 0, 1: 1, 2: 4, 3: 9, 4: 16, 5: 25}\n"
     ]
    }
   ],
   "source": [
    "# Dictionary Comprehension\n",
    "squares = {x: x*x for x in range(6)}\n",
    "\n",
    "print(squares)"
   ]
  },
  {
   "cell_type": "code",
   "execution_count": 26,
   "metadata": {},
   "outputs": [
    {
     "name": "stdout",
     "output_type": "stream",
     "text": [
      "{1: 1, 3: 9, 5: 25, 7: 49, 9: 81}\n"
     ]
    }
   ],
   "source": [
    "# Dictionary Comprehension with if conditional\n",
    "odd_squares = {x: x*x for x in range(11) if x % 2 == 1}\n",
    "\n",
    "print(odd_squares)"
   ]
  },
  {
   "cell_type": "code",
   "execution_count": null,
   "metadata": {},
   "outputs": [],
   "source": []
  }
 ],
 "metadata": {
  "kernelspec": {
   "display_name": "Python 3",
   "language": "python",
   "name": "python3"
  },
  "language_info": {
   "codemirror_mode": {
    "name": "ipython",
    "version": 3
   },
   "file_extension": ".py",
   "mimetype": "text/x-python",
   "name": "python",
   "nbconvert_exporter": "python",
   "pygments_lexer": "ipython3",
   "version": "3.8.5"
  }
 },
 "nbformat": 4,
 "nbformat_minor": 4
}
